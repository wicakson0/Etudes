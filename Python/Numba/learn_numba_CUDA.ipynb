{
 "cells": [
  {
   "cell_type": "markdown",
   "metadata": {},
   "source": [
    "# Learning GPU with Numba to Become a Programming Pimp"
   ]
  },
  {
   "cell_type": "markdown",
   "metadata": {},
   "source": [
    "## library Imports"
   ]
  },
  {
   "cell_type": "code",
   "execution_count": 2,
   "metadata": {},
   "outputs": [],
   "source": [
    "import numpy as np\n",
    "from numba import cuda"
   ]
  },
  {
   "cell_type": "code",
   "execution_count": 7,
   "metadata": {},
   "outputs": [],
   "source": [
    "@cuda.jit\n",
    "def vec_addition(a_vec, b_vec, res_vec):\n",
    "    thread_idx = cuda.grid(1)\n",
    "    size = len(res_vec)\n",
    "    \n",
    "    if thread_idx < size:\n",
    "        res_vec[thread_idx] = a_vec[thread_idx] + b_vec[thread_idx]"
   ]
  },
  {
   "cell_type": "code",
   "execution_count": 13,
   "metadata": {},
   "outputs": [],
   "source": [
    "# N = 100000\n",
    "# a_vec = cuda.to_device(np.random.standard_cauchy(N))\n",
    "# b_vec = cuda.to_device(np.random.standard_cauchy(N))\n",
    "\n",
    "a_vec = cuda.to_device(np.array(range(0,10)))\n",
    "b_vec = cuda.to_device(np.array(range(0,10)))\n",
    "\n",
    "res_vec = cuda.device_array_like(a_vec)"
   ]
  },
  {
   "cell_type": "code",
   "execution_count": 14,
   "metadata": {},
   "outputs": [],
   "source": [
    "threadsperblock = 32\n",
    "blockspergrid = (len(res_vec) + (threadsperblock - 1))"
   ]
  },
  {
   "cell_type": "code",
   "execution_count": 15,
   "metadata": {},
   "outputs": [
    {
     "name": "stderr",
     "output_type": "stream",
     "text": [
      "e:\\Programs\\miniforge3\\envs\\general_gpu_compute\\Lib\\site-packages\\numba\\cuda\\dispatcher.py:536: NumbaPerformanceWarning: \u001b[1mGrid size 41 will likely result in GPU under-utilization due to low occupancy.\u001b[0m\n",
      "  warn(NumbaPerformanceWarning(msg))\n"
     ]
    }
   ],
   "source": [
    "vec_addition[blockspergrid, threadsperblock](a_vec, b_vec, res_vec)"
   ]
  },
  {
   "cell_type": "code",
   "execution_count": 16,
   "metadata": {},
   "outputs": [
    {
     "name": "stdout",
     "output_type": "stream",
     "text": [
      "[ 0  2  4  6  8 10 12 14 16 18]\n"
     ]
    }
   ],
   "source": [
    "print(res_vec.copy_to_host())"
   ]
  }
 ],
 "metadata": {
  "kernelspec": {
   "display_name": "general_gpu_compute",
   "language": "python",
   "name": "python3"
  },
  "language_info": {
   "codemirror_mode": {
    "name": "ipython",
    "version": 3
   },
   "file_extension": ".py",
   "mimetype": "text/x-python",
   "name": "python",
   "nbconvert_exporter": "python",
   "pygments_lexer": "ipython3",
   "version": "3.12.4"
  }
 },
 "nbformat": 4,
 "nbformat_minor": 2
}
