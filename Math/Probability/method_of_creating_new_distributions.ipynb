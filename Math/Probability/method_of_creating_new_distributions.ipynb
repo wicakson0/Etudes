{
 "cells": [
  {
   "cell_type": "markdown",
   "metadata": {},
   "source": [
    "# Method of Creating New Distributions"
   ]
  },
  {
   "cell_type": "code",
   "execution_count": 1,
   "metadata": {},
   "outputs": [],
   "source": [
    "from sympy import *\n",
    "from sympy.stats import *"
   ]
  },
  {
   "cell_type": "markdown",
   "metadata": {},
   "source": [
    "## Multiplication by A Constant"
   ]
  },
  {
   "cell_type": "markdown",
   "metadata": {},
   "source": [
    "$F_y(y) = Pr(Y \\leq y) = Pr(cX \\leq y) = Pr(X \\leq \\frac{y}{c}) = F_x(\\frac{y}{c})$  \n",
    "which by differentiation rule becomes  \n",
    "$f_Y(y) = \\frac{1}{c}f_X(\\frac{y}{c})$"
   ]
  },
  {
   "cell_type": "markdown",
   "metadata": {},
   "source": [
    "Below is an example on exponential distribution. Suppose that the exponential distribution represent claims on an insurance and we want to multiply the distribution with $1+i$ where $i$ is the inflation rate to adjust the claim for inflation, we can customize the distribution as such."
   ]
  },
  {
   "cell_type": "code",
   "execution_count": 2,
   "metadata": {},
   "outputs": [],
   "source": [
    "lambda_ = Symbol(\"lambda\")\n",
    "X = Symbol(\"X\")\n",
    "c = Symbol(\"c\")"
   ]
  },
  {
   "cell_type": "code",
   "execution_count": 3,
   "metadata": {},
   "outputs": [],
   "source": [
    "exp_density = Exponential(X, lambda_)"
   ]
  },
  {
   "cell_type": "code",
   "execution_count": 4,
   "metadata": {},
   "outputs": [
    {
     "data": {
      "text/latex": [
       "$\\displaystyle \\lambda e^{- X \\lambda}$"
      ],
      "text/plain": [
       "lambda*exp(-X*lambda)"
      ]
     },
     "execution_count": 4,
     "metadata": {},
     "output_type": "execute_result"
    }
   ],
   "source": [
    "density(exp_density)(X)"
   ]
  },
  {
   "cell_type": "code",
   "execution_count": 5,
   "metadata": {},
   "outputs": [
    {
     "data": {
      "text/latex": [
       "$\\displaystyle \\begin{cases} 1 - e^{- X \\lambda} & \\text{for}\\: X \\geq 0 \\\\0 & \\text{otherwise} \\end{cases}$"
      ],
      "text/plain": [
       "Piecewise((1 - exp(-X*lambda), X >= 0), (0, True))"
      ]
     },
     "execution_count": 5,
     "metadata": {},
     "output_type": "execute_result"
    }
   ],
   "source": [
    "cdf(exp_density)(X)"
   ]
  },
  {
   "cell_type": "code",
   "execution_count": 6,
   "metadata": {},
   "outputs": [
    {
     "data": {
      "text/latex": [
       "$\\displaystyle \\frac{\\lambda e^{- \\frac{X \\lambda}{c}}}{c}$"
      ],
      "text/plain": [
       "lambda*exp(-X*lambda/c)/c"
      ]
     },
     "execution_count": 6,
     "metadata": {},
     "output_type": "execute_result"
    }
   ],
   "source": [
    "# diff(cdf(exp_density)(X/c), X)\n",
    "cmult_exp_density = (1/c) * density(exp_density)(X/c)\n",
    "cmult_exp_density"
   ]
  },
  {
   "cell_type": "markdown",
   "metadata": {},
   "source": [
    "## Raising to a Power"
   ]
  },
  {
   "cell_type": "markdown",
   "metadata": {},
   "source": [
    "Consider the transformation $Y = X^\\tau$. When $\\tau > 0$, then the distribution function of $Y$ is given by"
   ]
  },
  {
   "cell_type": "markdown",
   "metadata": {},
   "source": [
    "$F_Y(y)=Pr(Y \\leq y)=Pr(X^\\tau \\leq y) = Pr(X \\leq y^\\frac{1}{\\tau})=F_X(y^\\frac{1}{\\tau})$"
   ]
  },
  {
   "cell_type": "markdown",
   "metadata": {},
   "source": [
    "Which by differentiation rules become"
   ]
  },
  {
   "cell_type": "markdown",
   "metadata": {},
   "source": [
    "$f_Y(y)=\\frac{1}{\\tau}y^{\\frac{1}{\\tau}-1}f_X(y^{\\frac{1}{\\tau}})$"
   ]
  },
  {
   "cell_type": "markdown",
   "metadata": {},
   "source": [
    "When $\\tau < 0$ however, the distribution of $Y$ is given by"
   ]
  },
  {
   "cell_type": "markdown",
   "metadata": {},
   "source": [
    "$F_Y(y)=Pr(Y \\leq y)=Pr(X^\\tau \\leq y) = Pr(X \\geq y^\\frac{1}{\\tau})=1-F_X(y^\\frac{1}{\\tau})$"
   ]
  },
  {
   "cell_type": "markdown",
   "metadata": {},
   "source": [
    "Which by differentiation rules become"
   ]
  },
  {
   "cell_type": "markdown",
   "metadata": {},
   "source": [
    "$f_Y(y)=|\\frac{1}{\\tau}|y^{\\frac{1}{\\tau}-1}f_X(y^\\frac{1}{\\tau})$"
   ]
  },
  {
   "cell_type": "markdown",
   "metadata": {},
   "source": [
    "One of the application of this particular method is the creation of weibull distribution, of which in $Y = X^{\\tau}$, the variable $Y$ is weibull distributed when $\\tau > 0$"
   ]
  },
  {
   "cell_type": "code",
   "execution_count": 9,
   "metadata": {},
   "outputs": [
    {
     "data": {
      "text/latex": [
       "$\\displaystyle \\tau$"
      ],
      "text/plain": [
       "tau"
      ]
     },
     "execution_count": 9,
     "metadata": {},
     "output_type": "execute_result"
    }
   ],
   "source": [
    "tau = Symbol(\"tau\")"
   ]
  },
  {
   "cell_type": "code",
   "execution_count": 24,
   "metadata": {},
   "outputs": [
    {
     "data": {
      "text/latex": [
       "$\\displaystyle \\frac{X^{\\frac{1 - \\tau}{\\tau}} \\lambda e^{- X^{\\frac{1}{\\tau}} \\lambda}}{\\tau}$"
      ],
      "text/plain": [
       "X**((1 - tau)/tau)*lambda*exp(-X**(1/tau)*lambda)/tau"
      ]
     },
     "execution_count": 24,
     "metadata": {},
     "output_type": "execute_result"
    }
   ],
   "source": [
    "weibull_dist = (1/tau)*(X**((1/tau)-1))*density(exp_density)(X**(1/tau))\n",
    "weibull_dist = simplify(weibull_dist)\n",
    "weibull_dist"
   ]
  },
  {
   "cell_type": "code",
   "execution_count": 22,
   "metadata": {},
   "outputs": [
    {
     "data": {
      "text/latex": [
       "$\\displaystyle \\begin{cases} \\frac{X^{\\frac{1 - \\tau}{\\tau}} \\lambda e^{- X^{\\frac{1}{\\tau}} \\lambda}}{\\tau} & \\text{for}\\: X^{\\frac{1}{\\tau}} \\geq 0 \\\\0 & \\text{otherwise} \\end{cases}$"
      ],
      "text/plain": [
       "Piecewise((X**((1 - tau)/tau)*lambda*exp(-X**(1/tau)*lambda)/tau, X**(1/tau) >= 0), (0, True))"
      ]
     },
     "execution_count": 22,
     "metadata": {},
     "output_type": "execute_result"
    }
   ],
   "source": [
    "simplify(diff(cdf(exp_density)(X**(1/tau)), X))"
   ]
  },
  {
   "cell_type": "markdown",
   "metadata": {},
   "source": [
    "## Exponentiation"
   ]
  },
  {
   "cell_type": "markdown",
   "metadata": {},
   "source": [
    "Consider the transformation $Y=e^{X}$. The distribution of $Y$ is given by:"
   ]
  },
  {
   "cell_type": "markdown",
   "metadata": {},
   "source": [
    "$F_Y(y)=Pr(Y \\leq y)=Pr(e^{X} \\leq y)=Pr(X \\leq log(y)) = F_X(log(y))$"
   ]
  },
  {
   "cell_type": "markdown",
   "metadata": {},
   "source": [
    "By taking the derivative, we can see that it is equivalent to:"
   ]
  },
  {
   "cell_type": "markdown",
   "metadata": {},
   "source": [
    "$f_Y(y)=\\frac{1}{y}f_X(log(y))$"
   ]
  },
  {
   "cell_type": "markdown",
   "metadata": {},
   "source": [
    "An example for this kind of transformation is the creation of the lognormal distribution. if $Y = e^{X}$ where $X$ is normally distributed, then $Y$ is lognormally distributed."
   ]
  },
  {
   "cell_type": "code",
   "execution_count": 51,
   "metadata": {},
   "outputs": [],
   "source": [
    "mu = Symbol(\"mu\")\n",
    "sigma = Symbol(\"sigma\")\n",
    "y = Symbol(\"y\")\n",
    "#mu\n",
    "#sigma"
   ]
  },
  {
   "cell_type": "code",
   "execution_count": 52,
   "metadata": {},
   "outputs": [
    {
     "data": {
      "text/latex": [
       "$\\displaystyle \\operatorname{NormalDistribution}\\left(\\mu, \\sigma\\right)$"
      ],
      "text/plain": [
       "NormalDistribution(mu, sigma)"
      ]
     },
     "execution_count": 52,
     "metadata": {},
     "output_type": "execute_result"
    }
   ],
   "source": [
    "normal_dist = Normal(\"x\", mu, sigma)\n",
    "density(normal_dist)"
   ]
  },
  {
   "cell_type": "code",
   "execution_count": 53,
   "metadata": {},
   "outputs": [
    {
     "data": {
      "text/latex": [
       "$\\displaystyle \\frac{\\sqrt{2} e^{- \\frac{\\left(\\mu - y\\right)^{2}}{2 \\sigma^{2}}}}{2 \\sqrt{\\pi} \\sigma}$"
      ],
      "text/plain": [
       "sqrt(2)*exp(-(mu - y)**2/(2*sigma**2))/(2*sqrt(pi)*sigma)"
      ]
     },
     "execution_count": 53,
     "metadata": {},
     "output_type": "execute_result"
    }
   ],
   "source": [
    "simplify(density(normal_dist)(y))"
   ]
  },
  {
   "cell_type": "code",
   "execution_count": 54,
   "metadata": {},
   "outputs": [
    {
     "data": {
      "text/latex": [
       "$\\displaystyle \\delta\\left(y - \\frac{\\sqrt{2} e^{- \\frac{\\left(\\mu - \\log{\\left(y \\right)}\\right)^{2}}{2 \\sigma^{2}}}}{2 \\sqrt{\\pi} \\sigma y}\\right)$"
      ],
      "text/plain": [
       "DiracDelta(y - sqrt(2)*exp(-(mu - log(y))**2/(2*sigma**2))/(2*sqrt(pi)*sigma*y))"
      ]
     },
     "execution_count": 54,
     "metadata": {},
     "output_type": "execute_result"
    }
   ],
   "source": [
    "lognormal_dist = (1/y) * (density(normal_dist)(log(y)))\n",
    "lognormal_dist = simplify(density(lognormal_dist)(y))\n",
    "lognormal_dist"
   ]
  }
 ],
 "metadata": {
  "kernelspec": {
   "display_name": "symbolic_math",
   "language": "python",
   "name": "python3"
  },
  "language_info": {
   "codemirror_mode": {
    "name": "ipython",
    "version": 3
   },
   "file_extension": ".py",
   "mimetype": "text/x-python",
   "name": "python",
   "nbconvert_exporter": "python",
   "pygments_lexer": "ipython3",
   "version": "3.12.3"
  }
 },
 "nbformat": 4,
 "nbformat_minor": 2
}
