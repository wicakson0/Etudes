{
 "cells": [
  {
   "cell_type": "markdown",
   "metadata": {},
   "source": [
    "# Truncating A Distribution"
   ]
  },
  {
   "cell_type": "code",
   "execution_count": 5,
   "metadata": {},
   "outputs": [],
   "source": [
    "from sympy import *\n",
    "from sympy.stats import *"
   ]
  },
  {
   "cell_type": "markdown",
   "metadata": {},
   "source": [
    "Truncation for a probability distribution is defined by the following:  "
   ]
  },
  {
   "cell_type": "markdown",
   "metadata": {},
   "source": [
    "$f(x|a < X \\leq b) = \\frac{g(x)}{F(b)-F(a)} = \\frac{f(x)I({a < x \\leq b})}{F(b)-F(a)} = \\frac{f(x)I({a < x \\leq b})}{1-F(a)}$"
   ]
  },
  {
   "cell_type": "markdown",
   "metadata": {},
   "source": [
    "Suppose we wanted to create a zero truncated poisson distribution we can do that as follows:"
   ]
  },
  {
   "cell_type": "code",
   "execution_count": 2,
   "metadata": {},
   "outputs": [],
   "source": [
    "lambda_ = Symbol(\"lambda\")\n",
    "X = Symbol(\"x\")"
   ]
  },
  {
   "cell_type": "code",
   "execution_count": 6,
   "metadata": {},
   "outputs": [],
   "source": [
    "poisson_dist = Poisson(X, lambda_)"
   ]
  },
  {
   "cell_type": "code",
   "execution_count": 11,
   "metadata": {},
   "outputs": [
    {
     "data": {
      "text/latex": [
       "$\\displaystyle \\frac{\\lambda^{x} e^{- \\lambda}}{x!}$"
      ],
      "text/plain": [
       "lambda**x*exp(-lambda)/factorial(x)"
      ]
     },
     "execution_count": 11,
     "metadata": {},
     "output_type": "execute_result"
    }
   ],
   "source": [
    "density(poisson_dist)(X)"
   ]
  },
  {
   "cell_type": "code",
   "execution_count": 12,
   "metadata": {},
   "outputs": [],
   "source": [
    "upper_part = Piecewise(\n",
    "    (density(poisson_dist)(X), (X >= 1)),\n",
    "    (0, (X < 1))\n",
    ")"
   ]
  },
  {
   "cell_type": "code",
   "execution_count": 32,
   "metadata": {},
   "outputs": [
    {
     "data": {
      "text/latex": [
       "$\\displaystyle \\begin{cases} \\frac{\\lambda^{x} e^{- \\lambda}}{x!} & \\text{for}\\: x \\geq 1 \\\\0 & \\text{otherwise} \\end{cases}$"
      ],
      "text/plain": [
       "Piecewise((lambda**x*exp(-lambda)/factorial(x), x >= 1), (0, True))"
      ]
     },
     "execution_count": 32,
     "metadata": {},
     "output_type": "execute_result"
    }
   ],
   "source": [
    "upper_part"
   ]
  },
  {
   "cell_type": "code",
   "execution_count": 98,
   "metadata": {},
   "outputs": [],
   "source": [
    "lower_part = 1 - simplify(cdf(poisson_dist)(0))"
   ]
  },
  {
   "cell_type": "code",
   "execution_count": 99,
   "metadata": {},
   "outputs": [
    {
     "data": {
      "text/latex": [
       "$\\displaystyle 1 - e^{- \\lambda}$"
      ],
      "text/plain": [
       "1 - exp(-lambda)"
      ]
     },
     "execution_count": 99,
     "metadata": {},
     "output_type": "execute_result"
    }
   ],
   "source": [
    "lower_part"
   ]
  },
  {
   "cell_type": "code",
   "execution_count": 100,
   "metadata": {},
   "outputs": [],
   "source": [
    "zero_truncated_poisson = simplify(upper_part / lower_part)"
   ]
  },
  {
   "cell_type": "markdown",
   "metadata": {},
   "source": [
    "This is the resulting distribution:"
   ]
  },
  {
   "cell_type": "code",
   "execution_count": 101,
   "metadata": {},
   "outputs": [
    {
     "data": {
      "text/latex": [
       "$\\displaystyle \\begin{cases} \\frac{\\lambda^{x}}{\\left(e^{\\lambda} - 1\\right) \\Gamma\\left(x + 1\\right)} & \\text{for}\\: x \\geq 1 \\\\0 & \\text{otherwise} \\end{cases}$"
      ],
      "text/plain": [
       "Piecewise((lambda**x/((exp(lambda) - 1)*gamma(x + 1)), x >= 1), (0, True))"
      ]
     },
     "execution_count": 101,
     "metadata": {},
     "output_type": "execute_result"
    }
   ],
   "source": [
    "zero_truncated_poisson"
   ]
  }
 ],
 "metadata": {
  "kernelspec": {
   "display_name": "symbolic_math",
   "language": "python",
   "name": "python3"
  },
  "language_info": {
   "codemirror_mode": {
    "name": "ipython",
    "version": 3
   },
   "file_extension": ".py",
   "mimetype": "text/x-python",
   "name": "python",
   "nbconvert_exporter": "python",
   "pygments_lexer": "ipython3",
   "version": "3.12.3"
  }
 },
 "nbformat": 4,
 "nbformat_minor": 2
}
